{
 "cells": [
  {
   "metadata": {
    "ExecuteTime": {
     "end_time": "2025-03-26T12:03:36.721843Z",
     "start_time": "2025-03-26T12:03:36.717640Z"
    }
   },
   "cell_type": "code",
   "source": [
    "import numpy as np\n",
    "from sklearn.preprocessing import StandardScaler\n",
    "from sklearn.datasets import fetch_openml\n",
    "from sklearn.model_selection import train_test_split\n",
    "from src.lib.FFNNClassifier import FFNNClassifier\n",
    "from sklearn.neural_network import MLPClassifier\n",
    "from sklearn.metrics import accuracy_score\n"
   ],
   "id": "801534e44fcbe2c0",
   "outputs": [],
   "execution_count": 32
  },
  {
   "metadata": {
    "ExecuteTime": {
     "end_time": "2025-03-26T12:03:41.177805Z",
     "start_time": "2025-03-26T12:03:36.757978Z"
    }
   },
   "cell_type": "code",
   "source": [
    "def one_hot_encode(y, num_classes=10):\n",
    "    \"\"\"\n",
    "    More robust one-hot encoding using NumPy\n",
    "\n",
    "    Parameters:\n",
    "    y (array-like): Input labels\n",
    "    num_classes (int): Number of classes to encode\n",
    "\n",
    "    Returns:\n",
    "    numpy.ndarray: One-hot encoded array\n",
    "    \"\"\"\n",
    "    # Ensure y is a NumPy array of integers\n",
    "    y = np.asarray(y, dtype=int)\n",
    "\n",
    "    # Create one-hot encoded array\n",
    "    one_hot = np.zeros((len(y), num_classes))\n",
    "    one_hot[np.arange(len(y)), y] = 1\n",
    "\n",
    "    return one_hot\n",
    "\n",
    "X, y = fetch_openml(\"mnist_784\", version=1, return_X_y=True, as_frame=False)\n",
    "\n",
    "# Type conversion\n",
    "X = X.astype('float32')\n",
    "y = y.astype('int')\n",
    "\n",
    "# Split the data\n",
    "X_train, X_test, y_train, y_test = train_test_split(X, y, test_size=0.2, random_state=42)\n",
    "\n",
    "# Scale the features\n",
    "scaler = StandardScaler()\n",
    "X_train_scaled = scaler.fit_transform(X_train)\n",
    "X_test_scaled = scaler.transform(X_test)\n",
    "\n",
    "# One-hot encode labels\n",
    "y_train_one_hot = one_hot_encode(y_train)\n",
    "y_test_one_hot = one_hot_encode(y_test)"
   ],
   "id": "28a4bd5cdff5847f",
   "outputs": [],
   "execution_count": 33
  },
  {
   "metadata": {
    "ExecuteTime": {
     "end_time": "2025-03-26T12:03:41.192835Z",
     "start_time": "2025-03-26T12:03:41.188093Z"
    }
   },
   "cell_type": "code",
   "source": [
    "def train_and_evaluate_mlp(hidden_layer_sizes, X_train, y_train, X_test, y_test):\n",
    "    \"\"\"\n",
    "    Train MLP and return model, accuracy, and training loss\n",
    "    \"\"\"\n",
    "    mlp = MLPClassifier(\n",
    "        hidden_layer_sizes=hidden_layer_sizes,\n",
    "        max_iter=50,  # Increased iterations for better convergence\n",
    "        solver='adam',\n",
    "        random_state=42,\n",
    "        early_stopping=True,  # Use validation set for early stopping\n",
    "        validation_fraction=0.1,  # 10% of training data for validation\n",
    "        n_iter_no_change=5  # Stop if no improvement for 5 iterations\n",
    "    )\n",
    "\n",
    "    # Fit the model\n",
    "    mlp.fit(X_train, y_train)\n",
    "\n",
    "    # Predict and calculate accuracy\n",
    "    y_pred = mlp.predict(X_test)\n",
    "    accuracy = accuracy_score(y_test, y_pred)\n",
    "\n",
    "    return mlp, accuracy, mlp.loss_curve_"
   ],
   "id": "bd5b809b10bcb4ae",
   "outputs": [],
   "execution_count": 34
  },
  {
   "metadata": {
    "ExecuteTime": {
     "end_time": "2025-03-26T12:03:41.212993Z",
     "start_time": "2025-03-26T12:03:41.207963Z"
    }
   },
   "cell_type": "code",
   "source": [
    "def model_comparison(sk_mlp: MLPClassifier, custom_mlp: FFNNClassifier, is_weight: bool = False):\n",
    "\n",
    "    if not is_weight:\n",
    "        sk_mlp.fit(X_train_scaled, y_train)\n",
    "    sk_pred = sk_mlp.predict(X_test_scaled)\n",
    "    sk_accuracy = accuracy_score(y_test, sk_pred)\n",
    "    print(\"[SKLEARN] Prediction: \",sk_pred)\n",
    "    print(\"[SKLEARN] Accuracy: \", sk_accuracy)\n",
    "    # print(\"[SKLEARN] Weights: \", sk_mlp.coefs_)\n",
    "    # print(\"[SKLEARN] Bias: \", sk_mlp.intercepts_)\n",
    "    print()\n",
    "\n",
    "    if not is_weight:\n",
    "        custom_mlp.fit(X_train_scaled, y_train_one_hot)\n",
    "    custom_pred = custom_mlp.predict(X_test_scaled)\n",
    "    y_test_labels = np.argmax(y_test_one_hot, axis=1)\n",
    "    custom_accuracy = accuracy_score(y_test_labels, custom_pred)\n",
    "    print(\"[CUSTOM] Prediction: \",custom_pred)\n",
    "    print(\"[CUSTOM] Accuracy: \", custom_accuracy)\n",
    "    # print(\"[SKLEARN] Weights: \", custom_mlp.weights_history)\n",
    "    # print(\"[SKLEARN] Bias: \", custom_mlp.biases_history[-1])\n",
    "    print()\n"
   ],
   "id": "690823e3c6017152",
   "outputs": [],
   "execution_count": 35
  },
  {
   "metadata": {
    "ExecuteTime": {
     "end_time": "2025-03-26T12:05:14.540638Z",
     "start_time": "2025-03-26T12:03:41.239351Z"
    }
   },
   "cell_type": "code",
   "source": [
    "\n",
    "\"\"\"\n",
    "Pengaruh depth (banyak layer) dan width (banyak neuron per layer)\n",
    "\"\"\"\n",
    "\n",
    "# Configuration for depth variation (keeping width constant)\n",
    "depth_configs = [\n",
    "    (10, 10),  # 2 layers\n",
    "    (10, 10, 10),  # 3 layers\n",
    "    (10, 10, 10, 10)  # 4 layers\n",
    "]\n",
    "\n",
    "# Configuration for width variation (keeping depth constant)\n",
    "width_configs = [\n",
    "    (5,),  # narrow layer\n",
    "    (15,),  # medium layer\n",
    "    (30,)  # wide layer\n",
    "]\n",
    "\n",
    "results = {\n",
    "    'depth_variations': [],\n",
    "    'width_variations': []\n",
    "}\n",
    "\n",
    "# Experiment for depth variations (keeping width fixed)\n",
    "print(\"Depth Variations Experiment:\")\n",
    "for depth_config in depth_configs:\n",
    "    print(f\"\\nTesting depth configuration: {depth_config}\")\n",
    "\n",
    "    # Scikit-learn MLP\n",
    "    sk_mlp = MLPClassifier(\n",
    "        hidden_layer_sizes=depth_config,\n",
    "        max_iter=20,\n",
    "        random_state=42,\n",
    "        learning_rate_init=0.01\n",
    "    )\n",
    "\n",
    "    # Custom MLP\n",
    "    custom_mlp = FFNNClassifier(\n",
    "        max_epoch=20,\n",
    "        learning_rate=0.01,\n",
    "        hidden_layer_sizes=depth_config,\n",
    "        init_method=\"normal\",\n",
    "        mean=5.39294405e-05,\n",
    "        std=.44,\n",
    "        seed=69\n",
    "\n",
    "    )\n",
    "\n",
    "    model_comparison(sk_mlp, custom_mlp)\n",
    "\n",
    "print(\"Width Variations Experiment:\")\n",
    "for width_configs in width_configs:\n",
    "    print(f\"\\nTesting width configuration: {width_configs}\")\n",
    "\n",
    "    # Scikit-learn MLP\n",
    "    sk_mlp = MLPClassifier(\n",
    "        hidden_layer_sizes=width_configs,\n",
    "        max_iter=20,\n",
    "        random_state=42,\n",
    "        learning_rate_init=0.01\n",
    "    )\n",
    "\n",
    "    # Custom MLP\n",
    "    custom_mlp = FFNNClassifier(\n",
    "        max_epoch=20,\n",
    "        learning_rate=0.01,\n",
    "        hidden_layer_sizes=width_configs,\n",
    "        init_method=\"normal\",\n",
    "        mean=5.39294405e-05,\n",
    "        std=.44,\n",
    "        seed=69\n",
    "\n",
    "    )\n",
    "\n",
    "    model_comparison(sk_mlp, custom_mlp)\n"
   ],
   "id": "59dfa7da3d6601c8",
   "outputs": [
    {
     "name": "stdout",
     "output_type": "stream",
     "text": [
      "Depth Variations Experiment:\n",
      "\n",
      "Testing depth configuration: (10, 10)\n"
     ]
    },
    {
     "name": "stderr",
     "output_type": "stream",
     "text": [
      "C:\\Users\\ASUS\\Documents\\GitHub\\Feedforward-Neural-Network\\venv\\Lib\\site-packages\\sklearn\\neural_network\\_multilayer_perceptron.py:691: ConvergenceWarning: Stochastic Optimizer: Maximum iterations (20) reached and the optimization hasn't converged yet.\n",
      "  warnings.warn(\n"
     ]
    },
    {
     "name": "stdout",
     "output_type": "stream",
     "text": [
      "[SKLEARN] Prediction:  [8 4 8 ... 2 7 1]\n",
      "[SKLEARN] Accuracy:  0.9295\n",
      "\n",
      "[CUSTOM] Prediction:  [5 6 5 ... 6 6 5]\n",
      "[CUSTOM] Accuracy:  0.121\n",
      "\n",
      "\n",
      "Testing depth configuration: (10, 10, 10)\n"
     ]
    },
    {
     "name": "stderr",
     "output_type": "stream",
     "text": [
      "C:\\Users\\ASUS\\Documents\\GitHub\\Feedforward-Neural-Network\\venv\\Lib\\site-packages\\sklearn\\neural_network\\_multilayer_perceptron.py:691: ConvergenceWarning: Stochastic Optimizer: Maximum iterations (20) reached and the optimization hasn't converged yet.\n",
      "  warnings.warn(\n"
     ]
    },
    {
     "name": "stdout",
     "output_type": "stream",
     "text": [
      "[SKLEARN] Prediction:  [8 4 6 ... 2 7 1]\n",
      "[SKLEARN] Accuracy:  0.9293571428571429\n",
      "\n",
      "[CUSTOM] Prediction:  [6 6 6 ... 6 6 6]\n",
      "[CUSTOM] Accuracy:  0.09414285714285714\n",
      "\n",
      "\n",
      "Testing depth configuration: (10, 10, 10, 10)\n"
     ]
    },
    {
     "name": "stderr",
     "output_type": "stream",
     "text": [
      "C:\\Users\\ASUS\\Documents\\GitHub\\Feedforward-Neural-Network\\venv\\Lib\\site-packages\\sklearn\\neural_network\\_multilayer_perceptron.py:691: ConvergenceWarning: Stochastic Optimizer: Maximum iterations (20) reached and the optimization hasn't converged yet.\n",
      "  warnings.warn(\n"
     ]
    },
    {
     "name": "stdout",
     "output_type": "stream",
     "text": [
      "[SKLEARN] Prediction:  [8 4 8 ... 2 7 1]\n",
      "[SKLEARN] Accuracy:  0.9362142857142857\n",
      "\n",
      "[CUSTOM] Prediction:  [6 6 6 ... 6 6 6]\n",
      "[CUSTOM] Accuracy:  0.09971428571428571\n",
      "\n",
      "Width Variations Experiment:\n",
      "\n",
      "Testing width configuration: (5,)\n"
     ]
    },
    {
     "name": "stderr",
     "output_type": "stream",
     "text": [
      "C:\\Users\\ASUS\\Documents\\GitHub\\Feedforward-Neural-Network\\venv\\Lib\\site-packages\\sklearn\\neural_network\\_multilayer_perceptron.py:691: ConvergenceWarning: Stochastic Optimizer: Maximum iterations (20) reached and the optimization hasn't converged yet.\n",
      "  warnings.warn(\n"
     ]
    },
    {
     "name": "stdout",
     "output_type": "stream",
     "text": [
      "[SKLEARN] Prediction:  [8 4 8 ... 2 7 1]\n",
      "[SKLEARN] Accuracy:  0.8880714285714286\n",
      "\n",
      "[CUSTOM] Prediction:  [7 5 5 ... 3 5 5]\n",
      "[CUSTOM] Accuracy:  0.07342857142857143\n",
      "\n",
      "\n",
      "Testing width configuration: (15,)\n"
     ]
    },
    {
     "name": "stderr",
     "output_type": "stream",
     "text": [
      "C:\\Users\\ASUS\\Documents\\GitHub\\Feedforward-Neural-Network\\venv\\Lib\\site-packages\\sklearn\\neural_network\\_multilayer_perceptron.py:691: ConvergenceWarning: Stochastic Optimizer: Maximum iterations (20) reached and the optimization hasn't converged yet.\n",
      "  warnings.warn(\n"
     ]
    },
    {
     "name": "stdout",
     "output_type": "stream",
     "text": [
      "[SKLEARN] Prediction:  [8 4 5 ... 2 7 1]\n",
      "[SKLEARN] Accuracy:  0.9401428571428572\n",
      "\n",
      "[CUSTOM] Prediction:  [8 9 9 ... 9 3 6]\n",
      "[CUSTOM] Accuracy:  0.0995\n",
      "\n",
      "\n",
      "Testing width configuration: (30,)\n"
     ]
    },
    {
     "name": "stderr",
     "output_type": "stream",
     "text": [
      "C:\\Users\\ASUS\\Documents\\GitHub\\Feedforward-Neural-Network\\venv\\Lib\\site-packages\\sklearn\\neural_network\\_multilayer_perceptron.py:691: ConvergenceWarning: Stochastic Optimizer: Maximum iterations (20) reached and the optimization hasn't converged yet.\n",
      "  warnings.warn(\n"
     ]
    },
    {
     "name": "stdout",
     "output_type": "stream",
     "text": [
      "[SKLEARN] Prediction:  [8 4 8 ... 2 7 1]\n",
      "[SKLEARN] Accuracy:  0.9547142857142857\n",
      "\n",
      "[CUSTOM] Prediction:  [9 9 9 ... 9 9 9]\n",
      "[CUSTOM] Accuracy:  0.10278571428571429\n",
      "\n"
     ]
    },
    {
     "name": "stderr",
     "output_type": "stream",
     "text": [
      "C:\\Users\\ASUS\\Documents\\GitHub\\Feedforward-Neural-Network\\src\\lib\\FFNNClassifier.py:84: RuntimeWarning: overflow encountered in exp\n",
      "  elif func == 'sigmoid': return 1.0/(1.0 + np.exp(-x))\n"
     ]
    }
   ],
   "execution_count": 36
  },
  {
   "metadata": {
    "ExecuteTime": {
     "end_time": "2025-03-26T12:06:06.436942Z",
     "start_time": "2025-03-26T12:05:14.567599Z"
    }
   },
   "cell_type": "code",
   "source": [
    "activation_configs = [\n",
    "    ('linear','identity'),\n",
    "    ('relu','relu'),\n",
    "    ('sigmoid','logistic'),\n",
    "    ('tanh','tanh')\n",
    "]\n",
    "\n",
    "print(\"Width Variations Experiment:\")\n",
    "for act_custom, act_sklearn in activation_configs:\n",
    "    print(f\"\\nTesting activation configuration: {act_custom}\")\n",
    "\n",
    "    # Scikit-learn MLP\n",
    "    sk_mlp = MLPClassifier(\n",
    "        hidden_layer_sizes=[10],\n",
    "        activation= act_sklearn,\n",
    "        max_iter=20,\n",
    "        random_state=42,\n",
    "        learning_rate_init=0.01\n",
    "    )\n",
    "\n",
    "    # Custom MLP\n",
    "    custom_mlp = FFNNClassifier(\n",
    "        max_epoch=20,\n",
    "        learning_rate=0.01,\n",
    "        activation_func=[act_custom,act_custom],\n",
    "        hidden_layer_sizes=[10],\n",
    "        init_method=\"normal\",\n",
    "        mean=5.39294405e-05,\n",
    "        std=.44,\n",
    "        seed=69\n",
    "\n",
    "    )\n",
    "    model_comparison(sk_mlp, custom_mlp)"
   ],
   "id": "e7a0630da20efc9d",
   "outputs": [
    {
     "name": "stdout",
     "output_type": "stream",
     "text": [
      "Width Variations Experiment:\n",
      "\n",
      "Testing activation configuration: linear\n"
     ]
    },
    {
     "name": "stderr",
     "output_type": "stream",
     "text": [
      "C:\\Users\\ASUS\\Documents\\GitHub\\Feedforward-Neural-Network\\venv\\Lib\\site-packages\\sklearn\\neural_network\\_multilayer_perceptron.py:691: ConvergenceWarning: Stochastic Optimizer: Maximum iterations (20) reached and the optimization hasn't converged yet.\n",
      "  warnings.warn(\n"
     ]
    },
    {
     "name": "stdout",
     "output_type": "stream",
     "text": [
      "[SKLEARN] Prediction:  [8 4 5 ... 2 7 1]\n",
      "[SKLEARN] Accuracy:  0.9067142857142857\n",
      "\n",
      "[CUSTOM] Prediction:  [0 0 0 ... 0 0 0]\n",
      "[CUSTOM] Accuracy:  0.09592857142857143\n",
      "\n",
      "\n",
      "Testing activation configuration: relu\n"
     ]
    },
    {
     "name": "stderr",
     "output_type": "stream",
     "text": [
      "C:\\Users\\ASUS\\Documents\\GitHub\\Feedforward-Neural-Network\\venv\\Lib\\site-packages\\sklearn\\neural_network\\_multilayer_perceptron.py:691: ConvergenceWarning: Stochastic Optimizer: Maximum iterations (20) reached and the optimization hasn't converged yet.\n",
      "  warnings.warn(\n"
     ]
    },
    {
     "name": "stdout",
     "output_type": "stream",
     "text": [
      "[SKLEARN] Prediction:  [8 4 8 ... 2 7 1]\n",
      "[SKLEARN] Accuracy:  0.9294285714285714\n",
      "\n",
      "[CUSTOM] Prediction:  [0 0 0 ... 0 0 0]\n",
      "[CUSTOM] Accuracy:  0.09585714285714286\n",
      "\n",
      "\n",
      "Testing activation configuration: sigmoid\n"
     ]
    },
    {
     "name": "stderr",
     "output_type": "stream",
     "text": [
      "C:\\Users\\ASUS\\Documents\\GitHub\\Feedforward-Neural-Network\\venv\\Lib\\site-packages\\sklearn\\neural_network\\_multilayer_perceptron.py:691: ConvergenceWarning: Stochastic Optimizer: Maximum iterations (20) reached and the optimization hasn't converged yet.\n",
      "  warnings.warn(\n"
     ]
    },
    {
     "name": "stdout",
     "output_type": "stream",
     "text": [
      "[SKLEARN] Prediction:  [8 4 8 ... 2 7 1]\n",
      "[SKLEARN] Accuracy:  0.9096428571428572\n",
      "\n",
      "[CUSTOM] Prediction:  [2 5 5 ... 5 9 9]\n",
      "[CUSTOM] Accuracy:  0.09235714285714286\n",
      "\n",
      "\n",
      "Testing activation configuration: tanh\n"
     ]
    },
    {
     "name": "stderr",
     "output_type": "stream",
     "text": [
      "C:\\Users\\ASUS\\Documents\\GitHub\\Feedforward-Neural-Network\\venv\\Lib\\site-packages\\sklearn\\neural_network\\_multilayer_perceptron.py:691: ConvergenceWarning: Stochastic Optimizer: Maximum iterations (20) reached and the optimization hasn't converged yet.\n",
      "  warnings.warn(\n",
      "C:\\Users\\ASUS\\Documents\\GitHub\\Feedforward-Neural-Network\\src\\lib\\FFNNClassifier.py:99: RuntimeWarning: overflow encountered in exp\n",
      "  p = 2.0/(np.exp(x) - np.exp(-x)) # should be the same as 1 - np.tanh(x) ** 2. will check later\n"
     ]
    },
    {
     "name": "stdout",
     "output_type": "stream",
     "text": [
      "[SKLEARN] Prediction:  [8 4 8 ... 2 7 1]\n",
      "[SKLEARN] Accuracy:  0.9026428571428572\n",
      "\n",
      "[CUSTOM] Prediction:  [1 0 5 ... 0 2 0]\n",
      "[CUSTOM] Accuracy:  0.036642857142857144\n",
      "\n"
     ]
    }
   ],
   "execution_count": 37
  },
  {
   "metadata": {
    "ExecuteTime": {
     "end_time": "2025-03-26T12:06:57.462556Z",
     "start_time": "2025-03-26T12:06:06.443315Z"
    }
   },
   "cell_type": "code",
   "source": [
    "learning_rates = [0.1, 0.01, 0.001, 0.0001]\n",
    "\n",
    "print(\"Width Variations Experiment:\")\n",
    "for rate in learning_rates:\n",
    "    print(f\"\\nTesting activation configuration: {rate}\")\n",
    "\n",
    "    # Scikit-learn MLP\n",
    "    sk_mlp = MLPClassifier(\n",
    "        hidden_layer_sizes=[10],\n",
    "        max_iter=20,\n",
    "        random_state=42,\n",
    "        learning_rate_init=rate\n",
    "    )\n",
    "\n",
    "    # Custom MLP\n",
    "    custom_mlp = FFNNClassifier(\n",
    "        max_epoch=20,\n",
    "        learning_rate=rate,\n",
    "        hidden_layer_sizes=[10],\n",
    "        init_method=\"normal\",\n",
    "        mean=5.39294405e-05,\n",
    "        std=.44,\n",
    "        seed=69\n",
    "\n",
    "    )\n",
    "\n",
    "    model_comparison(sk_mlp, custom_mlp)"
   ],
   "id": "b21ff3b736552045",
   "outputs": [
    {
     "name": "stdout",
     "output_type": "stream",
     "text": [
      "Width Variations Experiment:\n",
      "\n",
      "Testing activation configuration: 0.1\n"
     ]
    },
    {
     "name": "stderr",
     "output_type": "stream",
     "text": [
      "C:\\Users\\ASUS\\Documents\\GitHub\\Feedforward-Neural-Network\\venv\\Lib\\site-packages\\sklearn\\neural_network\\_multilayer_perceptron.py:691: ConvergenceWarning: Stochastic Optimizer: Maximum iterations (20) reached and the optimization hasn't converged yet.\n",
      "  warnings.warn(\n"
     ]
    },
    {
     "name": "stdout",
     "output_type": "stream",
     "text": [
      "[SKLEARN] Prediction:  [2 4 2 ... 2 7 1]\n",
      "[SKLEARN] Accuracy:  0.5694285714285714\n",
      "\n",
      "[CUSTOM] Prediction:  [6 9 5 ... 5 9 9]\n",
      "[CUSTOM] Accuracy:  0.09585714285714286\n",
      "\n",
      "\n",
      "Testing activation configuration: 0.01\n"
     ]
    },
    {
     "name": "stderr",
     "output_type": "stream",
     "text": [
      "C:\\Users\\ASUS\\Documents\\GitHub\\Feedforward-Neural-Network\\venv\\Lib\\site-packages\\sklearn\\neural_network\\_multilayer_perceptron.py:691: ConvergenceWarning: Stochastic Optimizer: Maximum iterations (20) reached and the optimization hasn't converged yet.\n",
      "  warnings.warn(\n"
     ]
    },
    {
     "name": "stdout",
     "output_type": "stream",
     "text": [
      "[SKLEARN] Prediction:  [8 4 8 ... 2 7 1]\n",
      "[SKLEARN] Accuracy:  0.9294285714285714\n",
      "\n",
      "[CUSTOM] Prediction:  [2 5 5 ... 5 9 9]\n",
      "[CUSTOM] Accuracy:  0.09235714285714286\n",
      "\n",
      "\n",
      "Testing activation configuration: 0.001\n"
     ]
    },
    {
     "name": "stderr",
     "output_type": "stream",
     "text": [
      "C:\\Users\\ASUS\\Documents\\GitHub\\Feedforward-Neural-Network\\venv\\Lib\\site-packages\\sklearn\\neural_network\\_multilayer_perceptron.py:691: ConvergenceWarning: Stochastic Optimizer: Maximum iterations (20) reached and the optimization hasn't converged yet.\n",
      "  warnings.warn(\n"
     ]
    },
    {
     "name": "stdout",
     "output_type": "stream",
     "text": [
      "[SKLEARN] Prediction:  [8 4 8 ... 2 7 1]\n",
      "[SKLEARN] Accuracy:  0.9322857142857143\n",
      "\n",
      "[CUSTOM] Prediction:  [2 5 5 ... 5 9 9]\n",
      "[CUSTOM] Accuracy:  0.091\n",
      "\n",
      "\n",
      "Testing activation configuration: 0.0001\n"
     ]
    },
    {
     "name": "stderr",
     "output_type": "stream",
     "text": [
      "C:\\Users\\ASUS\\Documents\\GitHub\\Feedforward-Neural-Network\\venv\\Lib\\site-packages\\sklearn\\neural_network\\_multilayer_perceptron.py:691: ConvergenceWarning: Stochastic Optimizer: Maximum iterations (20) reached and the optimization hasn't converged yet.\n",
      "  warnings.warn(\n"
     ]
    },
    {
     "name": "stdout",
     "output_type": "stream",
     "text": [
      "[SKLEARN] Prediction:  [8 4 8 ... 2 7 1]\n",
      "[SKLEARN] Accuracy:  0.9120714285714285\n",
      "\n",
      "[CUSTOM] Prediction:  [5 5 5 ... 5 9 9]\n",
      "[CUSTOM] Accuracy:  0.093\n",
      "\n"
     ]
    }
   ],
   "execution_count": 38
  },
  {
   "metadata": {
    "ExecuteTime": {
     "end_time": "2025-03-26T12:07:36.102386Z",
     "start_time": "2025-03-26T12:06:57.476191Z"
    }
   },
   "cell_type": "code",
   "source": [
    "import random\n",
    "\n",
    "weight_configs =  ['normal', 'zero', 'uniform']\n",
    "\n",
    "print(\"Width Variations Experiment:\")\n",
    "for weight_config in weight_configs:\n",
    "    print(f\"\\nTesting weight configuration: {weight_config}\")\n",
    "\n",
    "    lower_bound=5.39294405e-05\n",
    "    upper_bound=1\n",
    "    mean=5.39294405e-05\n",
    "    std=.44\n",
    "    seed=69\n",
    "\n",
    "    # Scikit-learn MLP\n",
    "    sk_mlp = MLPClassifier(\n",
    "        hidden_layer_sizes=[10],\n",
    "        max_iter=20,\n",
    "        random_state=42,\n",
    "        learning_rate_init=0.01\n",
    "    )\n",
    "    sk_mlp.fit(X_train_scaled, y_train)\n",
    "    if weight_config == 'normal':\n",
    "        for i in range(len(sk_mlp.coefs_)):\n",
    "            sk_mlp.coefs_[i] = np.random.normal(mean, std, sk_mlp.coefs_[i].shape)\n",
    "            sk_mlp.intercepts_[i] = np.random.normal(mean, std, sk_mlp.intercepts_[i].shape)\n",
    "    elif weight_config == 'zero':\n",
    "        for i in range(len(sk_mlp.coefs_)):\n",
    "            sk_mlp.coefs_[i] = np.zeros(sk_mlp.coefs_[i].shape)\n",
    "            sk_mlp.intercepts_[i] = np.zeros(sk_mlp.intercepts_[i].shape)\n",
    "    elif weight_config == 'uniform':\n",
    "        for i in range(len(sk_mlp.coefs_)):\n",
    "            sk_mlp.coefs_[i] = np.random.uniform(lower_bound, upper_bound, sk_mlp.coefs_[i].shape)\n",
    "            sk_mlp.intercepts_[i] = np.random.uniform(lower_bound, upper_bound, sk_mlp.intercepts_[i].shape)\n",
    "    else:\n",
    "        raise ValueError('Unknown weight configuration')\n",
    "\n",
    "\n",
    "\n",
    "    # Custom MLP\n",
    "    custom_mlp = FFNNClassifier(\n",
    "        max_epoch=20,\n",
    "        learning_rate=0.01,\n",
    "        hidden_layer_sizes=[10],\n",
    "        init_method=\"normal\",\n",
    "        lower_bound=lower_bound,\n",
    "        upper_bound=upper_bound,\n",
    "        mean=mean,\n",
    "        std=std,\n",
    "        seed=seed\n",
    "    )\n",
    "    custom_mlp.fit(X_train_scaled, y_train_one_hot)\n",
    "\n",
    "\n",
    "    model_comparison(sk_mlp, custom_mlp, True)"
   ],
   "id": "d5c0d65e76b4a222",
   "outputs": [
    {
     "name": "stdout",
     "output_type": "stream",
     "text": [
      "Width Variations Experiment:\n",
      "\n",
      "Testing weight configuration: normal\n"
     ]
    },
    {
     "name": "stderr",
     "output_type": "stream",
     "text": [
      "C:\\Users\\ASUS\\Documents\\GitHub\\Feedforward-Neural-Network\\venv\\Lib\\site-packages\\sklearn\\neural_network\\_multilayer_perceptron.py:691: ConvergenceWarning: Stochastic Optimizer: Maximum iterations (20) reached and the optimization hasn't converged yet.\n",
      "  warnings.warn(\n"
     ]
    },
    {
     "name": "stdout",
     "output_type": "stream",
     "text": [
      "[SKLEARN] Prediction:  [3 5 4 ... 3 9 3]\n",
      "[SKLEARN] Accuracy:  0.08785714285714286\n",
      "\n",
      "[CUSTOM] Prediction:  [2 5 5 ... 5 9 9]\n",
      "[CUSTOM] Accuracy:  0.09235714285714286\n",
      "\n",
      "\n",
      "Testing weight configuration: zero\n"
     ]
    },
    {
     "name": "stderr",
     "output_type": "stream",
     "text": [
      "C:\\Users\\ASUS\\Documents\\GitHub\\Feedforward-Neural-Network\\venv\\Lib\\site-packages\\sklearn\\neural_network\\_multilayer_perceptron.py:691: ConvergenceWarning: Stochastic Optimizer: Maximum iterations (20) reached and the optimization hasn't converged yet.\n",
      "  warnings.warn(\n"
     ]
    },
    {
     "name": "stdout",
     "output_type": "stream",
     "text": [
      "[SKLEARN] Prediction:  [0 0 0 ... 0 0 0]\n",
      "[SKLEARN] Accuracy:  0.09592857142857143\n",
      "\n",
      "[CUSTOM] Prediction:  [2 5 5 ... 5 9 9]\n",
      "[CUSTOM] Accuracy:  0.09235714285714286\n",
      "\n",
      "\n",
      "Testing weight configuration: uniform\n"
     ]
    },
    {
     "name": "stderr",
     "output_type": "stream",
     "text": [
      "C:\\Users\\ASUS\\Documents\\GitHub\\Feedforward-Neural-Network\\venv\\Lib\\site-packages\\sklearn\\neural_network\\_multilayer_perceptron.py:691: ConvergenceWarning: Stochastic Optimizer: Maximum iterations (20) reached and the optimization hasn't converged yet.\n",
      "  warnings.warn(\n"
     ]
    },
    {
     "name": "stdout",
     "output_type": "stream",
     "text": [
      "[SKLEARN] Prediction:  [8 4 1 ... 0 0 0]\n",
      "[SKLEARN] Accuracy:  0.0735\n",
      "\n",
      "[CUSTOM] Prediction:  [2 5 5 ... 5 9 9]\n",
      "[CUSTOM] Accuracy:  0.09235714285714286\n",
      "\n"
     ]
    }
   ],
   "execution_count": 39
  }
 ],
 "metadata": {
  "kernelspec": {
   "name": "python3",
   "language": "python",
   "display_name": "Python 3 (ipykernel)"
  }
 },
 "nbformat": 5,
 "nbformat_minor": 9
}
