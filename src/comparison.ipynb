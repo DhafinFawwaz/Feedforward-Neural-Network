{
 "cells": [
  {
   "metadata": {},
   "cell_type": "markdown",
   "source": "# Setup",
   "id": "cbf762c7c5709d70"
  },
  {
   "metadata": {
    "ExecuteTime": {
     "end_time": "2025-03-28T08:32:38.104100Z",
     "start_time": "2025-03-28T08:32:10.959025Z"
    }
   },
   "cell_type": "code",
   "source": [
    "import numpy as np\n",
    "from sklearn.preprocessing import StandardScaler\n",
    "from sklearn.datasets import fetch_openml\n",
    "from sklearn.model_selection import train_test_split\n",
    "from lib.FFNNClassifier import FFNNClassifier\n",
    "\n",
    "from lib.MLPLib import MLPLIB\n",
    "from lib.Utils import model_comparison\n"
   ],
   "id": "801534e44fcbe2c0",
   "outputs": [],
   "execution_count": 1
  },
  {
   "metadata": {
    "ExecuteTime": {
     "end_time": "2025-03-28T08:32:42.770175Z",
     "start_time": "2025-03-28T08:32:42.765901Z"
    }
   },
   "cell_type": "code",
   "source": [
    "def one_hot_encode(y, num_classes=10):\n",
    "    y = np.asarray(y, dtype=int)\n",
    "    one_hot = np.zeros((len(y), num_classes), dtype=int)\n",
    "    one_hot[np.arange(len(y)), y] = 1\n",
    "    return one_hot"
   ],
   "id": "696c483c9ba4e7cb",
   "outputs": [],
   "execution_count": 2
  },
  {
   "metadata": {
    "ExecuteTime": {
     "end_time": "2025-03-28T08:32:50.012144Z",
     "start_time": "2025-03-28T08:32:45.437092Z"
    }
   },
   "cell_type": "code",
   "source": [
    "X, y = fetch_openml(\"mnist_784\", version=1, return_X_y=True, as_frame=False)\n",
    "\n",
    "# Type conversion\n",
    "X = X.astype('float32')\n",
    "y = y.astype('int')\n",
    "\n",
    "# Split the data\n",
    "X_train, X_test, y_train, y_test = train_test_split(X, y, test_size=0.2, random_state=42)\n",
    "\n",
    "# Scale the features\n",
    "scaler = StandardScaler()\n",
    "X_train_scaled = scaler.fit_transform(X_train)\n",
    "X_test_scaled = scaler.transform(X_test)\n",
    "\n",
    "# One-hot encode labels\n",
    "y_train_one_hot = one_hot_encode(y_train)\n",
    "y_test_one_hot = one_hot_encode(y_test)"
   ],
   "id": "28a4bd5cdff5847f",
   "outputs": [],
   "execution_count": 3
  },
  {
   "metadata": {
    "ExecuteTime": {
     "end_time": "2025-03-28T08:33:03.179186Z",
     "start_time": "2025-03-28T08:33:03.175431Z"
    }
   },
   "cell_type": "code",
   "source": [
    "\"\"\"\n",
    "DEFAULT PARAMETERS\n",
    "\"\"\"\n",
    "\n",
    "lower_bound=5.39294405e-05\n",
    "upper_bound=1\n",
    "mean=5.39294405e-05\n",
    "std=.44\n",
    "seed=69\n",
    "hidden_layer_sizes=[128,64,32]\n",
    "max_iter=15\n",
    "init_method=\"normal\"\n",
    "learning_rate_init=0.01\n",
    "batch_size=50\n",
    "activation_mlplib=\"logistic\"\n",
    "activation_ffnn=\"sigmoid\"\n"
   ],
   "id": "690823e3c6017152",
   "outputs": [],
   "execution_count": 4
  },
  {
   "metadata": {},
   "cell_type": "markdown",
   "source": "# Pengaruh depth (banyak layer) dan width (banyak neuron per layer)",
   "id": "bdbb694a07f20a30"
  },
  {
   "metadata": {
    "ExecuteTime": {
     "end_time": "2025-03-28T07:06:26.253401Z",
     "start_time": "2025-03-28T07:06:26.249268Z"
    }
   },
   "cell_type": "code",
   "source": [
    "# Configuration for depth variation (keeping width constant)\n",
    "depth_configs = [\n",
    "    [10, 10],  # 2 layers\n",
    "    [10, 10, 10],  # 3 layers\n",
    "    [10, 10, 10, 10]  # 4 layers\n",
    "]\n",
    "\n",
    "# Configuration for width variation (keeping depth constant)\n",
    "width_configs = [\n",
    "    [5],  # narrow layer\n",
    "    [15],  # medium layer\n",
    "    [30]  # wide layer\n",
    "]"
   ],
   "id": "d4b5a127ebeacf8",
   "outputs": [],
   "execution_count": 5
  },
  {
   "metadata": {
    "ExecuteTime": {
     "end_time": "2025-03-28T07:07:00.725505Z",
     "start_time": "2025-03-28T07:06:28.563841Z"
    }
   },
   "cell_type": "code",
   "source": [
    "# Experiment for depth variations (keeping width fixed)\n",
    "print(\"Depth Variations Experiment:\")\n",
    "for depth_config in depth_configs:\n",
    "    print(f\"\\nTesting depth configuration: {depth_config}\")\n",
    "\n",
    "    # Scikit-learn MLP\n",
    "    sk_mlp = MLPLIB(\n",
    "        max_iter=max_iter,\n",
    "        learning_rate_init=learning_rate_init,\n",
    "        hidden_layer_sizes=depth_config,\n",
    "        init_method=init_method,\n",
    "        lower_bound=lower_bound,\n",
    "        upper_bound=upper_bound,\n",
    "        mean=mean,\n",
    "        std=std,\n",
    "        seed=seed,\n",
    "        batch_size=batch_size,\n",
    "        activation=activation_mlplib,\n",
    "        verbose=False,\n",
    "    )\n",
    "\n",
    "    # Custom MLP\n",
    "    custom_mlp = FFNNClassifier(\n",
    "        max_epoch=max_iter,\n",
    "        learning_rate=learning_rate_init,\n",
    "        hidden_layer_sizes=depth_config,\n",
    "        init_method=init_method,\n",
    "        lower_bound=lower_bound,\n",
    "        upper_bound=upper_bound,\n",
    "        mean=mean,\n",
    "        std=std,\n",
    "        seed=seed,\n",
    "        batch_size=batch_size,\n",
    "        verbose=0,\n",
    "        loss_func=\"categorical_cross_entropy\",\n",
    "        activation_func=[activation_ffnn] * len(depth_config) + ['softmax']\n",
    "    )\n",
    "\n",
    "    model_comparison(sk_mlp, custom_mlp,X_train_scaled, y_train, y_train_one_hot, X_test_scaled, y_test, y_test_one_hot, is_only_show_accuracy=True)"
   ],
   "id": "59dfa7da3d6601c8",
   "outputs": [
    {
     "name": "stdout",
     "output_type": "stream",
     "text": [
      "Depth Variations Experiment:\n",
      "\n",
      "Testing depth configuration: [10, 10]\n",
      "[SKLearn MLPClassifier]\n"
     ]
    },
    {
     "name": "stderr",
     "output_type": "stream",
     "text": [
      "C:\\Users\\ASUS\\Documents\\GitHub\\Feedforward-Neural-Network\\venv\\Lib\\site-packages\\sklearn\\neural_network\\_multilayer_perceptron.py:691: ConvergenceWarning: Stochastic Optimizer: Maximum iterations (15) reached and the optimization hasn't converged yet.\n",
      "  warnings.warn(\n"
     ]
    },
    {
     "name": "stdout",
     "output_type": "stream",
     "text": [
      "Accuracy:\n",
      " 0.6517142857142857\n",
      "\n",
      "[From Scratch FFNNClassifier]\n",
      "Accuracy:\n",
      " 0.6517142857142857\n",
      "\n",
      "[Comparison Result]\n",
      "✅ Weight is equal\n",
      "✅ Bias is equal\n",
      "✅ Prediction is equal\n",
      "✅ Prediction Probability is equal\n",
      "✅ Loss is equal\n",
      "✅ Accuracy is equal\n",
      "\n",
      "\n",
      "Testing depth configuration: [10, 10, 10]\n",
      "[SKLearn MLPClassifier]\n"
     ]
    },
    {
     "name": "stderr",
     "output_type": "stream",
     "text": [
      "C:\\Users\\ASUS\\Documents\\GitHub\\Feedforward-Neural-Network\\venv\\Lib\\site-packages\\sklearn\\neural_network\\_multilayer_perceptron.py:691: ConvergenceWarning: Stochastic Optimizer: Maximum iterations (15) reached and the optimization hasn't converged yet.\n",
      "  warnings.warn(\n"
     ]
    },
    {
     "name": "stdout",
     "output_type": "stream",
     "text": [
      "Accuracy:\n",
      " 0.4722142857142857\n",
      "\n",
      "[From Scratch FFNNClassifier]\n",
      "Accuracy:\n",
      " 0.4722142857142857\n",
      "\n",
      "[Comparison Result]\n",
      "✅ Weight is equal\n",
      "✅ Bias is equal\n",
      "✅ Prediction is equal\n",
      "✅ Prediction Probability is equal\n",
      "✅ Loss is equal\n",
      "✅ Accuracy is equal\n",
      "\n",
      "\n",
      "Testing depth configuration: [10, 10, 10, 10]\n",
      "[SKLearn MLPClassifier]\n"
     ]
    },
    {
     "name": "stderr",
     "output_type": "stream",
     "text": [
      "C:\\Users\\ASUS\\Documents\\GitHub\\Feedforward-Neural-Network\\venv\\Lib\\site-packages\\sklearn\\neural_network\\_multilayer_perceptron.py:691: ConvergenceWarning: Stochastic Optimizer: Maximum iterations (15) reached and the optimization hasn't converged yet.\n",
      "  warnings.warn(\n"
     ]
    },
    {
     "name": "stdout",
     "output_type": "stream",
     "text": [
      "Accuracy:\n",
      " 0.24035714285714285\n",
      "\n",
      "[From Scratch FFNNClassifier]\n",
      "Accuracy:\n",
      " 0.24035714285714285\n",
      "\n",
      "[Comparison Result]\n",
      "✅ Weight is equal\n",
      "✅ Bias is equal\n",
      "✅ Prediction is equal\n",
      "✅ Prediction Probability is equal\n",
      "✅ Loss is equal\n",
      "✅ Accuracy is equal\n",
      "\n"
     ]
    }
   ],
   "execution_count": 6
  },
  {
   "metadata": {
    "ExecuteTime": {
     "end_time": "2025-03-28T07:17:13.142495Z",
     "start_time": "2025-03-28T07:16:33.554382Z"
    }
   },
   "cell_type": "code",
   "source": [
    "print(\"Width Variations Experiment:\")\n",
    "for width in width_configs:\n",
    "    print(f\"\\nTesting width configuration: {width}\")\n",
    "\n",
    "    # Scikit-learn MLP\n",
    "    sk_mlp = MLPLIB(\n",
    "        max_iter=max_iter,\n",
    "        learning_rate_init=learning_rate_init,\n",
    "        hidden_layer_sizes=width,\n",
    "        init_method=init_method,\n",
    "        lower_bound=lower_bound,\n",
    "        upper_bound=upper_bound,\n",
    "        mean=mean,\n",
    "        std=std,\n",
    "        seed=seed,\n",
    "        batch_size=batch_size,\n",
    "        activation=activation_mlplib,\n",
    "        verbose=False\n",
    "    )\n",
    "\n",
    "    # Custom MLP\n",
    "    custom_mlp = FFNNClassifier(\n",
    "        max_epoch=max_iter,\n",
    "        learning_rate=learning_rate_init,\n",
    "        hidden_layer_sizes=width,\n",
    "        init_method=init_method,\n",
    "        lower_bound=lower_bound,\n",
    "        upper_bound=upper_bound,\n",
    "        mean=mean,\n",
    "        std=std,\n",
    "        seed=seed,\n",
    "        batch_size=batch_size,\n",
    "        verbose=0,\n",
    "        loss_func=\"categorical_cross_entropy\",\n",
    "        activation_func=[activation_ffnn] * len(width) + ['softmax']\n",
    "    )\n",
    "\n",
    "    model_comparison(sk_mlp, custom_mlp,X_train_scaled, y_train, y_train_one_hot, X_test_scaled, y_test, y_test_one_hot, is_only_show_accuracy=True)"
   ],
   "id": "ce96bdb39bc445",
   "outputs": [
    {
     "name": "stdout",
     "output_type": "stream",
     "text": [
      "Width Variations Experiment:\n",
      "\n",
      "Testing width configuration: [5]\n",
      "[SKLearn MLPClassifier]\n"
     ]
    },
    {
     "name": "stderr",
     "output_type": "stream",
     "text": [
      "C:\\Users\\ASUS\\Documents\\GitHub\\Feedforward-Neural-Network\\venv\\Lib\\site-packages\\sklearn\\neural_network\\_multilayer_perceptron.py:691: ConvergenceWarning: Stochastic Optimizer: Maximum iterations (15) reached and the optimization hasn't converged yet.\n",
      "  warnings.warn(\n"
     ]
    },
    {
     "name": "stdout",
     "output_type": "stream",
     "text": [
      "Accuracy:\n",
      " 0.7432142857142857\n",
      "\n",
      "[From Scratch FFNNClassifier]\n",
      "Accuracy:\n",
      " 0.7432142857142857\n",
      "\n",
      "[Comparison Result]\n",
      "✅ Weight is equal\n",
      "✅ Bias is equal\n",
      "✅ Prediction is equal\n",
      "✅ Prediction Probability is equal\n",
      "✅ Loss is equal\n",
      "✅ Accuracy is equal\n",
      "\n",
      "\n",
      "Testing width configuration: [15]\n",
      "[SKLearn MLPClassifier]\n"
     ]
    },
    {
     "name": "stderr",
     "output_type": "stream",
     "text": [
      "C:\\Users\\ASUS\\Documents\\GitHub\\Feedforward-Neural-Network\\venv\\Lib\\site-packages\\sklearn\\neural_network\\_multilayer_perceptron.py:691: ConvergenceWarning: Stochastic Optimizer: Maximum iterations (15) reached and the optimization hasn't converged yet.\n",
      "  warnings.warn(\n"
     ]
    },
    {
     "name": "stdout",
     "output_type": "stream",
     "text": [
      "Accuracy:\n",
      " 0.8022142857142858\n",
      "\n",
      "[From Scratch FFNNClassifier]\n",
      "Accuracy:\n",
      " 0.8022142857142858\n",
      "\n",
      "[Comparison Result]\n",
      "✅ Weight is equal\n",
      "✅ Bias is equal\n",
      "✅ Prediction is equal\n",
      "✅ Prediction Probability is equal\n",
      "✅ Loss is equal\n",
      "✅ Accuracy is equal\n",
      "\n",
      "\n",
      "Testing width configuration: [30]\n",
      "[SKLearn MLPClassifier]\n"
     ]
    },
    {
     "name": "stderr",
     "output_type": "stream",
     "text": [
      "C:\\Users\\ASUS\\Documents\\GitHub\\Feedforward-Neural-Network\\venv\\Lib\\site-packages\\sklearn\\neural_network\\_multilayer_perceptron.py:691: ConvergenceWarning: Stochastic Optimizer: Maximum iterations (15) reached and the optimization hasn't converged yet.\n",
      "  warnings.warn(\n"
     ]
    },
    {
     "name": "stdout",
     "output_type": "stream",
     "text": [
      "Accuracy:\n",
      " 0.8432857142857143\n",
      "\n",
      "[From Scratch FFNNClassifier]\n",
      "Accuracy:\n",
      " 0.8432857142857143\n",
      "\n",
      "[Comparison Result]\n",
      "✅ Weight is equal\n",
      "✅ Bias is equal\n",
      "✅ Prediction is equal\n",
      "✅ Prediction Probability is equal\n",
      "✅ Loss is equal\n",
      "✅ Accuracy is equal\n",
      "\n"
     ]
    }
   ],
   "execution_count": 8
  },
  {
   "metadata": {},
   "cell_type": "markdown",
   "source": "# Pengaruh fungsi aktivasi hidden layer",
   "id": "613282673cb7adca"
  },
  {
   "metadata": {
    "ExecuteTime": {
     "end_time": "2025-03-28T08:33:10.582415Z",
     "start_time": "2025-03-28T08:33:10.578038Z"
    }
   },
   "cell_type": "code",
   "source": [
    "activation_configs = [\n",
    "    ('linear','identity'),\n",
    "    ('relu','relu'),\n",
    "    ('sigmoid','logistic'),\n",
    "    ('tanh','tanh')\n",
    "]"
   ],
   "id": "34b1a12acf7ac72",
   "outputs": [],
   "execution_count": 5
  },
  {
   "metadata": {
    "ExecuteTime": {
     "end_time": "2025-03-28T08:36:12.184620Z",
     "start_time": "2025-03-28T08:33:11.875867Z"
    }
   },
   "cell_type": "code",
   "source": [
    "print(\"Width Variations Experiment:\")\n",
    "for act_custom, act_sklearn in activation_configs:\n",
    "    print(f\"\\nTesting activation configuration: {act_custom}\")\n",
    "\n",
    "    # Scikit-learn MLP\n",
    "    sk_mlp = MLPLIB(\n",
    "        max_iter=max_iter,\n",
    "        learning_rate_init=learning_rate_init,\n",
    "        hidden_layer_sizes=hidden_layer_sizes,\n",
    "        init_method=init_method,\n",
    "        lower_bound=lower_bound,\n",
    "        upper_bound=upper_bound,\n",
    "        mean=mean,\n",
    "        std=std,\n",
    "        seed=seed,\n",
    "        batch_size=batch_size,\n",
    "        activation=act_sklearn,\n",
    "        verbose=False\n",
    "    )\n",
    "\n",
    "    # Custom MLP\n",
    "    custom_mlp = FFNNClassifier(\n",
    "        max_epoch=max_iter,\n",
    "        learning_rate=learning_rate_init,\n",
    "        hidden_layer_sizes=hidden_layer_sizes,\n",
    "        init_method=init_method,\n",
    "        lower_bound=lower_bound,\n",
    "        upper_bound=upper_bound,\n",
    "        mean=mean,\n",
    "        std=std,\n",
    "        seed=seed,\n",
    "        batch_size=batch_size,\n",
    "        verbose=0,\n",
    "        loss_func=\"categorical_cross_entropy\",\n",
    "        activation_func=[act_custom] * len(hidden_layer_sizes) + ['softmax']\n",
    "    )\n",
    "\n",
    "    model_comparison(sk_mlp, custom_mlp,X_train_scaled, y_train, y_train_one_hot, X_test_scaled, y_test, y_test_one_hot, is_only_show_accuracy=True)"
   ],
   "id": "e7a0630da20efc9d",
   "outputs": [
    {
     "name": "stdout",
     "output_type": "stream",
     "text": [
      "Width Variations Experiment:\n",
      "\n",
      "Testing activation configuration: linear\n",
      "[SKLearn MLPClassifier]\n"
     ]
    },
    {
     "name": "stderr",
     "output_type": "stream",
     "text": [
      "C:\\Users\\ASUS\\Documents\\GitHub\\Feedforward-Neural-Network\\src\\.venv\\Lib\\site-packages\\sklearn\\neural_network\\_multilayer_perceptron.py:691: ConvergenceWarning: Stochastic Optimizer: Maximum iterations (15) reached and the optimization hasn't converged yet.\n",
      "  warnings.warn(\n"
     ]
    },
    {
     "name": "stdout",
     "output_type": "stream",
     "text": [
      "Accuracy:\n",
      " 0.8857857142857143\n",
      "\n",
      "[From Scratch FFNNClassifier]\n",
      "Accuracy:\n",
      " 0.8857857142857143\n",
      "\n",
      "[Comparison Result]\n",
      "✅ Weight is equal\n",
      "✅ Bias is equal\n",
      "✅ Prediction is equal\n",
      "✅ Prediction Probability is equal\n",
      "✅ Loss is equal\n",
      "✅ Accuracy is equal\n",
      "\n",
      "\n",
      "Testing activation configuration: relu\n",
      "[SKLearn MLPClassifier]\n"
     ]
    },
    {
     "name": "stderr",
     "output_type": "stream",
     "text": [
      "C:\\Users\\ASUS\\Documents\\GitHub\\Feedforward-Neural-Network\\src\\.venv\\Lib\\site-packages\\sklearn\\neural_network\\_multilayer_perceptron.py:691: ConvergenceWarning: Stochastic Optimizer: Maximum iterations (15) reached and the optimization hasn't converged yet.\n",
      "  warnings.warn(\n"
     ]
    },
    {
     "name": "stdout",
     "output_type": "stream",
     "text": [
      "Accuracy:\n",
      " 0.7580714285714286\n",
      "\n",
      "[From Scratch FFNNClassifier]\n",
      "Accuracy:\n",
      " 0.7580714285714286\n",
      "\n",
      "[Comparison Result]\n",
      "✅ Weight is equal\n",
      "✅ Bias is equal\n",
      "✅ Prediction is equal\n",
      "✅ Prediction Probability is equal\n",
      "✅ Loss is equal\n",
      "✅ Accuracy is equal\n",
      "\n",
      "\n",
      "Testing activation configuration: sigmoid\n",
      "[SKLearn MLPClassifier]\n"
     ]
    },
    {
     "name": "stderr",
     "output_type": "stream",
     "text": [
      "C:\\Users\\ASUS\\Documents\\GitHub\\Feedforward-Neural-Network\\src\\.venv\\Lib\\site-packages\\sklearn\\neural_network\\_multilayer_perceptron.py:691: ConvergenceWarning: Stochastic Optimizer: Maximum iterations (15) reached and the optimization hasn't converged yet.\n",
      "  warnings.warn(\n"
     ]
    },
    {
     "name": "stdout",
     "output_type": "stream",
     "text": [
      "Accuracy:\n",
      " 0.8449285714285715\n",
      "\n",
      "[From Scratch FFNNClassifier]\n",
      "Accuracy:\n",
      " 0.8449285714285715\n",
      "\n",
      "[Comparison Result]\n",
      "✅ Weight is equal\n",
      "✅ Bias is equal\n",
      "✅ Prediction is equal\n",
      "✅ Prediction Probability is equal\n",
      "✅ Loss is equal\n",
      "✅ Accuracy is equal\n",
      "\n",
      "\n",
      "Testing activation configuration: tanh\n",
      "[SKLearn MLPClassifier]\n"
     ]
    },
    {
     "name": "stderr",
     "output_type": "stream",
     "text": [
      "C:\\Users\\ASUS\\Documents\\GitHub\\Feedforward-Neural-Network\\src\\.venv\\Lib\\site-packages\\sklearn\\neural_network\\_multilayer_perceptron.py:691: ConvergenceWarning: Stochastic Optimizer: Maximum iterations (15) reached and the optimization hasn't converged yet.\n",
      "  warnings.warn(\n"
     ]
    },
    {
     "name": "stdout",
     "output_type": "stream",
     "text": [
      "Accuracy:\n",
      " 0.8095\n",
      "\n",
      "[From Scratch FFNNClassifier]\n",
      "Accuracy:\n",
      " 0.8095\n",
      "\n",
      "[Comparison Result]\n",
      "✅ Weight is equal\n",
      "✅ Bias is equal\n",
      "✅ Prediction is equal\n",
      "✅ Prediction Probability is equal\n",
      "✅ Loss is equal\n",
      "✅ Accuracy is equal\n",
      "\n"
     ]
    }
   ],
   "execution_count": 6
  },
  {
   "metadata": {},
   "cell_type": "markdown",
   "source": "# Pengaruh learning rate",
   "id": "f403053e9c150dd1"
  },
  {
   "metadata": {
    "ExecuteTime": {
     "end_time": "2025-03-28T07:44:32.852203Z",
     "start_time": "2025-03-28T07:44:32.843952Z"
    }
   },
   "cell_type": "code",
   "source": "learning_rates = [0.1, 0.06, 0.006, 0.0009]",
   "id": "d67ad2a321d25bbf",
   "outputs": [],
   "execution_count": 15
  },
  {
   "metadata": {
    "ExecuteTime": {
     "end_time": "2025-03-28T07:49:13.561215Z",
     "start_time": "2025-03-28T07:44:34.995614Z"
    }
   },
   "cell_type": "code",
   "source": [
    "print(\"Width Variations Experiment:\")\n",
    "for rate in learning_rates:\n",
    "    print(f\"\\nTesting activation configuration: {rate}\")\n",
    "\n",
    "    # Scikit-learn MLP\n",
    "    sk_mlp = MLPLIB(\n",
    "        max_iter=max_iter,\n",
    "        learning_rate_init=learning_rate_init,\n",
    "        hidden_layer_sizes=hidden_layer_sizes,\n",
    "        init_method=init_method,\n",
    "        lower_bound=lower_bound,\n",
    "        upper_bound=upper_bound,\n",
    "        mean=mean,\n",
    "        std=std,\n",
    "        seed=seed,\n",
    "        batch_size=batch_size,\n",
    "        activation=activation_mlplib,\n",
    "        verbose=False\n",
    "    )\n",
    "\n",
    "    # Custom MLP\n",
    "    custom_mlp = FFNNClassifier(\n",
    "        max_epoch=max_iter,\n",
    "        learning_rate=learning_rate_init,\n",
    "        hidden_layer_sizes=hidden_layer_sizes,\n",
    "        init_method=init_method,\n",
    "        lower_bound=lower_bound,\n",
    "        upper_bound=upper_bound,\n",
    "        mean=mean,\n",
    "        std=std,\n",
    "        seed=seed,\n",
    "        batch_size=batch_size,\n",
    "        verbose=0,\n",
    "        loss_func=\"categorical_cross_entropy\",\n",
    "        activation_func=[activation_ffnn] * len(hidden_layer_sizes) + ['softmax']\n",
    "    )\n",
    "\n",
    "    model_comparison(sk_mlp, custom_mlp, X_train_scaled, y_train, y_train_one_hot, X_test_scaled, y_test, y_test_one_hot, is_only_show_accuracy=True)"
   ],
   "id": "b21ff3b736552045",
   "outputs": [
    {
     "name": "stdout",
     "output_type": "stream",
     "text": [
      "Width Variations Experiment:\n",
      "\n",
      "Testing activation configuration: 0.1\n",
      "[SKLearn MLPClassifier]\n"
     ]
    },
    {
     "name": "stderr",
     "output_type": "stream",
     "text": [
      "C:\\Users\\ASUS\\Documents\\GitHub\\Feedforward-Neural-Network\\venv\\Lib\\site-packages\\sklearn\\neural_network\\_multilayer_perceptron.py:691: ConvergenceWarning: Stochastic Optimizer: Maximum iterations (15) reached and the optimization hasn't converged yet.\n",
      "  warnings.warn(\n"
     ]
    },
    {
     "name": "stdout",
     "output_type": "stream",
     "text": [
      "Accuracy:\n",
      " 0.8449285714285715\n",
      "\n",
      "[From Scratch FFNNClassifier]\n",
      "Accuracy:\n",
      " 0.8449285714285715\n",
      "\n",
      "[Comparison Result]\n",
      "✅ Weight is equal\n",
      "✅ Bias is equal\n",
      "✅ Prediction is equal\n",
      "✅ Prediction Probability is equal\n",
      "✅ Loss is equal\n",
      "✅ Accuracy is equal\n",
      "\n",
      "\n",
      "Testing activation configuration: 0.06\n",
      "[SKLearn MLPClassifier]\n"
     ]
    },
    {
     "name": "stderr",
     "output_type": "stream",
     "text": [
      "C:\\Users\\ASUS\\Documents\\GitHub\\Feedforward-Neural-Network\\venv\\Lib\\site-packages\\sklearn\\neural_network\\_multilayer_perceptron.py:691: ConvergenceWarning: Stochastic Optimizer: Maximum iterations (15) reached and the optimization hasn't converged yet.\n",
      "  warnings.warn(\n"
     ]
    },
    {
     "name": "stdout",
     "output_type": "stream",
     "text": [
      "Accuracy:\n",
      " 0.8449285714285715\n",
      "\n",
      "[From Scratch FFNNClassifier]\n",
      "Accuracy:\n",
      " 0.8449285714285715\n",
      "\n",
      "[Comparison Result]\n",
      "✅ Weight is equal\n",
      "✅ Bias is equal\n",
      "✅ Prediction is equal\n",
      "✅ Prediction Probability is equal\n",
      "✅ Loss is equal\n",
      "✅ Accuracy is equal\n",
      "\n",
      "\n",
      "Testing activation configuration: 0.006\n",
      "[SKLearn MLPClassifier]\n"
     ]
    },
    {
     "name": "stderr",
     "output_type": "stream",
     "text": [
      "C:\\Users\\ASUS\\Documents\\GitHub\\Feedforward-Neural-Network\\venv\\Lib\\site-packages\\sklearn\\neural_network\\_multilayer_perceptron.py:691: ConvergenceWarning: Stochastic Optimizer: Maximum iterations (15) reached and the optimization hasn't converged yet.\n",
      "  warnings.warn(\n"
     ]
    },
    {
     "name": "stdout",
     "output_type": "stream",
     "text": [
      "Accuracy:\n",
      " 0.8449285714285715\n",
      "\n",
      "[From Scratch FFNNClassifier]\n",
      "Accuracy:\n",
      " 0.8449285714285715\n",
      "\n",
      "[Comparison Result]\n",
      "✅ Weight is equal\n",
      "✅ Bias is equal\n",
      "✅ Prediction is equal\n",
      "✅ Prediction Probability is equal\n",
      "✅ Loss is equal\n",
      "✅ Accuracy is equal\n",
      "\n",
      "\n",
      "Testing activation configuration: 0.0009\n",
      "[SKLearn MLPClassifier]\n"
     ]
    },
    {
     "name": "stderr",
     "output_type": "stream",
     "text": [
      "C:\\Users\\ASUS\\Documents\\GitHub\\Feedforward-Neural-Network\\venv\\Lib\\site-packages\\sklearn\\neural_network\\_multilayer_perceptron.py:691: ConvergenceWarning: Stochastic Optimizer: Maximum iterations (15) reached and the optimization hasn't converged yet.\n",
      "  warnings.warn(\n"
     ]
    },
    {
     "name": "stdout",
     "output_type": "stream",
     "text": [
      "Accuracy:\n",
      " 0.8449285714285715\n",
      "\n",
      "[From Scratch FFNNClassifier]\n",
      "Accuracy:\n",
      " 0.8449285714285715\n",
      "\n",
      "[Comparison Result]\n",
      "✅ Weight is equal\n",
      "✅ Bias is equal\n",
      "✅ Prediction is equal\n",
      "✅ Prediction Probability is equal\n",
      "✅ Loss is equal\n",
      "✅ Accuracy is equal\n",
      "\n"
     ]
    }
   ],
   "execution_count": 16
  },
  {
   "metadata": {},
   "cell_type": "markdown",
   "source": "# Perbandingan Weight",
   "id": "ddcb9cda56cd61b7"
  },
  {
   "metadata": {
    "ExecuteTime": {
     "end_time": "2025-03-28T07:55:48.766383Z",
     "start_time": "2025-03-28T07:55:48.763216Z"
    }
   },
   "cell_type": "code",
   "source": "weight_configs =  ['normal', 'zero', 'uniform']",
   "id": "34d5132af2f90c41",
   "outputs": [],
   "execution_count": 17
  },
  {
   "metadata": {
    "ExecuteTime": {
     "end_time": "2025-03-28T07:59:11.189268Z",
     "start_time": "2025-03-28T07:56:22.508571Z"
    }
   },
   "cell_type": "code",
   "source": [
    "print(\"Width Variations Experiment:\")\n",
    "for weight_config in weight_configs:\n",
    "    print(f\"\\nTesting weight configuration: {weight_config}\")\n",
    "\n",
    "    # Scikit-learn MLP\n",
    "    sk_mlp = MLPLIB(\n",
    "        max_iter=max_iter,\n",
    "        learning_rate_init=learning_rate_init,\n",
    "        hidden_layer_sizes=hidden_layer_sizes,\n",
    "        init_method=weight_config,\n",
    "        lower_bound=lower_bound,\n",
    "        upper_bound=upper_bound,\n",
    "        mean=mean,\n",
    "        std=std,\n",
    "        seed=seed,\n",
    "        batch_size=batch_size,\n",
    "        activation=activation_mlplib,\n",
    "        verbose=False\n",
    "    )\n",
    "\n",
    "    # Custom MLP\n",
    "    custom_mlp = FFNNClassifier(\n",
    "        max_epoch=max_iter,\n",
    "        learning_rate=learning_rate_init,\n",
    "        hidden_layer_sizes=hidden_layer_sizes,\n",
    "        init_method=weight_config,\n",
    "        lower_bound=lower_bound,\n",
    "        upper_bound=upper_bound,\n",
    "        mean=mean,\n",
    "        std=std,\n",
    "        seed=seed,\n",
    "        batch_size=batch_size,\n",
    "        verbose=0,\n",
    "        loss_func=\"categorical_cross_entropy\",\n",
    "        activation_func=[activation_ffnn] * len(hidden_layer_sizes) + ['softmax']\n",
    "    )\n",
    "\n",
    "\n",
    "    model_comparison(sk_mlp, custom_mlp, X_train_scaled, y_train, y_train_one_hot, X_test_scaled, y_test, y_test_one_hot, is_only_show_accuracy=True)"
   ],
   "id": "d5c0d65e76b4a222",
   "outputs": [
    {
     "name": "stdout",
     "output_type": "stream",
     "text": [
      "Width Variations Experiment:\n",
      "\n",
      "Testing weight configuration: normal\n",
      "[SKLearn MLPClassifier]\n"
     ]
    },
    {
     "name": "stderr",
     "output_type": "stream",
     "text": [
      "C:\\Users\\ASUS\\Documents\\GitHub\\Feedforward-Neural-Network\\venv\\Lib\\site-packages\\sklearn\\neural_network\\_multilayer_perceptron.py:691: ConvergenceWarning: Stochastic Optimizer: Maximum iterations (15) reached and the optimization hasn't converged yet.\n",
      "  warnings.warn(\n"
     ]
    },
    {
     "name": "stdout",
     "output_type": "stream",
     "text": [
      "Accuracy:\n",
      " 0.8449285714285715\n",
      "\n",
      "[From Scratch FFNNClassifier]\n",
      "Accuracy:\n",
      " 0.8449285714285715\n",
      "\n",
      "[Comparison Result]\n",
      "✅ Weight is equal\n",
      "✅ Bias is equal\n",
      "✅ Prediction is equal\n",
      "✅ Prediction Probability is equal\n",
      "✅ Loss is equal\n",
      "✅ Accuracy is equal\n",
      "\n",
      "\n",
      "Testing weight configuration: zero\n",
      "[SKLearn MLPClassifier]\n",
      "Accuracy:\n",
      " 0.11428571428571428\n",
      "\n",
      "[From Scratch FFNNClassifier]\n",
      "Accuracy:\n",
      " 0.11428571428571428\n",
      "\n",
      "[Comparison Result]\n",
      "[[2.2941954e-06 2.2941954e-06 2.2941954e-06 ... 2.2941954e-06\n",
      "  2.2941954e-06 2.2941954e-06]\n",
      " [2.2941954e-06 2.2941954e-06 2.2941954e-06 ... 2.2941954e-06\n",
      "  2.2941954e-06 2.2941954e-06]\n",
      " [2.2941954e-06 2.2941954e-06 2.2941954e-06 ... 2.2941954e-06\n",
      "  2.2941954e-06 2.2941954e-06]\n",
      " ...\n",
      " [2.2941954e-06 2.2941954e-06 2.2941954e-06 ... 2.2941954e-06\n",
      "  2.2941954e-06 2.2941954e-06]\n",
      " [2.2941954e-06 2.2941954e-06 2.2941954e-06 ... 2.2941954e-06\n",
      "  2.2941954e-06 2.2941954e-06]\n",
      " [2.2941954e-06 2.2941954e-06 2.2941954e-06 ... 2.2941954e-06\n",
      "  2.2941954e-06 2.2941954e-06]] != [[3.6016149e-06 3.6016149e-06 3.6016149e-06 ... 3.6016154e-06\n",
      "  3.6016154e-06 3.6016154e-06]\n",
      " [3.6016149e-06 3.6016149e-06 3.6016149e-06 ... 3.6016154e-06\n",
      "  3.6016154e-06 3.6016154e-06]\n",
      " [3.6016149e-06 3.6016149e-06 3.6016149e-06 ... 3.6016154e-06\n",
      "  3.6016154e-06 3.6016154e-06]\n",
      " ...\n",
      " [3.6016149e-06 3.6016149e-06 3.6016149e-06 ... 3.6016154e-06\n",
      "  3.6016154e-06 3.6016154e-06]\n",
      " [3.6016149e-06 3.6016149e-06 3.6016149e-06 ... 3.6016154e-06\n",
      "  3.6016154e-06 3.6016154e-06]\n",
      " [3.6016149e-06 3.6016149e-06 3.6016149e-06 ... 3.6016154e-06\n",
      "  3.6016154e-06 3.6016154e-06]]\n",
      "❌ Weight is not equal\n",
      "[4.5883912e-06 4.5883912e-06 4.5883912e-06 4.5883912e-06 4.5883912e-06\n",
      " 4.5883912e-06 4.5883903e-06 4.5883903e-06 4.5883912e-06 4.5883912e-06\n",
      " 4.5883912e-06 4.5883912e-06 4.5883912e-06 4.5883912e-06 4.5883912e-06\n",
      " 4.5883912e-06 4.5883912e-06 4.5883912e-06 4.5883912e-06 4.5883912e-06\n",
      " 4.5883912e-06 4.5883912e-06 4.5883912e-06 4.5883912e-06 4.5883912e-06\n",
      " 4.5883912e-06 4.5883912e-06 4.5883912e-06 4.5883912e-06 4.5883912e-06\n",
      " 4.5883912e-06 4.5883912e-06 4.5883912e-06 4.5883912e-06 4.5883912e-06\n",
      " 4.5883912e-06 4.5883912e-06 4.5883912e-06 4.5883912e-06 4.5883912e-06\n",
      " 4.5883912e-06 4.5883912e-06 4.5883912e-06 4.5883912e-06 4.5883912e-06\n",
      " 4.5883912e-06 4.5883912e-06 4.5883912e-06 4.5883912e-06 4.5883912e-06\n",
      " 4.5883912e-06 4.5883912e-06 4.5883912e-06 4.5883912e-06 4.5883912e-06\n",
      " 4.5883912e-06 4.5883903e-06 4.5883903e-06 4.5883903e-06 4.5883903e-06\n",
      " 4.5883908e-06 4.5883908e-06 4.5883908e-06 4.5883908e-06] != [[7.2032240e-06 7.2032240e-06 7.2032240e-06 7.2032240e-06 7.2032240e-06\n",
      "  7.2032240e-06 7.2032290e-06 7.2032290e-06 7.2032230e-06 7.2032230e-06\n",
      "  7.2032230e-06 7.2032230e-06 7.2032194e-06 7.2032194e-06 7.2032194e-06\n",
      "  7.2032194e-06 7.2032194e-06 7.2032194e-06 7.2032230e-06 7.2032230e-06\n",
      "  7.2032230e-06 7.2032230e-06 7.2032230e-06 7.2032230e-06 7.2032194e-06\n",
      "  7.2032194e-06 7.2032194e-06 7.2032194e-06 7.2032194e-06 7.2032194e-06\n",
      "  7.2032230e-06 7.2032230e-06 7.2032230e-06 7.2032230e-06 7.2032230e-06\n",
      "  7.2032230e-06 7.2032194e-06 7.2032194e-06 7.2032194e-06 7.2032194e-06\n",
      "  7.2032194e-06 7.2032194e-06 7.2032230e-06 7.2032230e-06 7.2032230e-06\n",
      "  7.2032230e-06 7.2032230e-06 7.2032230e-06 7.2032194e-06 7.2032194e-06\n",
      "  7.2032194e-06 7.2032194e-06 7.2032194e-06 7.2032194e-06 7.2032230e-06\n",
      "  7.2032230e-06 7.2032290e-06 7.2032290e-06 7.2032290e-06 7.2032290e-06\n",
      "  7.2032221e-06 7.2032221e-06 7.2032221e-06 7.2032221e-06]]\n",
      "❌ Bias is not equal\n",
      "✅ Prediction is equal\n",
      "✅ Prediction Probability is equal\n",
      "✅ Loss is equal\n",
      "✅ Accuracy is equal\n",
      "\n",
      "\n",
      "Testing weight configuration: uniform\n",
      "[SKLearn MLPClassifier]\n",
      "Accuracy:\n",
      " 0.11428571428571428\n",
      "\n",
      "[From Scratch FFNNClassifier]\n",
      "Accuracy:\n",
      " 0.11428571428571428\n",
      "\n",
      "[Comparison Result]\n",
      "✅ Weight is equal\n",
      "✅ Bias is equal\n",
      "✅ Prediction is equal\n",
      "✅ Prediction Probability is equal\n",
      "✅ Loss is equal\n",
      "✅ Accuracy is equal\n",
      "\n"
     ]
    }
   ],
   "execution_count": 19
  }
 ],
 "metadata": {
  "kernelspec": {
   "name": "python3",
   "language": "python",
   "display_name": "Python 3 (ipykernel)"
  }
 },
 "nbformat": 5,
 "nbformat_minor": 9
}
